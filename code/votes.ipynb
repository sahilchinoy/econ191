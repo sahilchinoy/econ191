{
 "cells": [
  {
   "cell_type": "code",
   "execution_count": 1,
   "metadata": {
    "collapsed": true
   },
   "outputs": [],
   "source": [
    "import psycopg2\n",
    "import numpy as np\n",
    "import pandas as pd"
   ]
  },
  {
   "cell_type": "code",
   "execution_count": 2,
   "metadata": {
    "collapsed": true
   },
   "outputs": [],
   "source": [
    "urls = [\n",
    "    'https://raw.githubusercontent.com/openelections/openelections-data-ca/master/2016/20161108__ca__general.csv',\n",
    "    'https://raw.githubusercontent.com/openelections/openelections-data-ca/master/2014/20141104__ca__general.csv',\n",
    "    'https://raw.githubusercontent.com/openelections/openelections-data-ca/master/2012/20121106__ca__general.csv',\n",
    "    'https://raw.githubusercontent.com/openelections/openelections-data-ca/master/2010/20101102__ca__general.csv',\n",
    "    'https://raw.githubusercontent.com/openelections/openelections-data-ca/master/2008/20081104__ca__general__state_assembly.csv',\n",
    "    'https://raw.githubusercontent.com/openelections/openelections-data-ca/master/2008/20081104__ca__general__state_senate.csv',\n",
    "    'https://raw.githubusercontent.com/openelections/openelections-data-ca/master/2006/20061107__ca__general__state_assembly.csv',\n",
    "    'https://raw.githubusercontent.com/openelections/openelections-data-ca/master/2006/20061107__ca__general__state_senate.csv',\n",
    "    'https://raw.githubusercontent.com/openelections/openelections-data-ca/master/2004/20041102__ca__general__state_assembly.csv',\n",
    "    'https://raw.githubusercontent.com/openelections/openelections-data-ca/master/2004/20041102__ca__general__state_senate.csv',\n",
    "    'https://raw.githubusercontent.com/openelections/openelections-data-ca/master/2002/20021105__ca__general__state_assembly.csv',\n",
    "    'https://raw.githubusercontent.com/openelections/openelections-data-ca/master/2002/20021105__ca__general__state_senate.csv'\n",
    "]"
   ]
  },
  {
   "cell_type": "code",
   "execution_count": 4,
   "metadata": {},
   "outputs": [],
   "source": [
    "dfs = []\n",
    "for url in urls:\n",
    "    df = pd.read_csv(url)\n",
    "    df['year'] = int(url.split('/')[-1][0:4])\n",
    "    dfs.append(df)"
   ]
  },
  {
   "cell_type": "code",
   "execution_count": 5,
   "metadata": {
    "collapsed": true
   },
   "outputs": [],
   "source": [
    "votes = pd.concat(dfs)\n",
    "votes = votes[(votes['office'] == 'State Assembly') | (votes['office'] == 'State Senate')]\n",
    "votes = votes.groupby(['candidate','office','district','party','year'], as_index=False).sum()"
   ]
  },
  {
   "cell_type": "code",
   "execution_count": 6,
   "metadata": {
    "collapsed": true
   },
   "outputs": [],
   "source": [
    "# Some manual corrections\n",
    "votes['candidate'] = votes['candidate'].replace('Sally Lieber','Sally J. Lieber')\n",
    "votes['candidate'] = votes['candidate'].replace('Nicole Parra','Nicole M. Parra')\n",
    "votes['candidate'] = votes['candidate'].replace('Anthony Portantino','Anthony J. Portantino')\n",
    "votes['candidate'] = votes['candidate'].replace('Isadore Hall, III','Isadore Hall')\n",
    "votes['candidate'] = votes['candidate'].replace('Cameron Smyth','Cameron M. Smyth')\n",
    "votes['candidate'] = votes['candidate'].replace('Alan Lowenthal','Alan S. Lowenthal')\n",
    "votes['candidate'] = votes['candidate'].replace('Reggie Jones-Sawyer','Reginald Byron Jones-Sawyer')\n",
    "votes['candidate'] = votes['candidate'].replace('Eric Linder','Eric F. Linder')"
   ]
  },
  {
   "cell_type": "code",
   "execution_count": 7,
   "metadata": {
    "collapsed": true
   },
   "outputs": [],
   "source": [
    "totals = votes.groupby(['office','district','year'], as_index=False).sum()\n",
    "totals = totals.rename(columns={'votes': 'total_votes'})"
   ]
  },
  {
   "cell_type": "code",
   "execution_count": 8,
   "metadata": {
    "collapsed": true
   },
   "outputs": [],
   "source": [
    "votes = votes.merge(totals, on=['office','district','year'])\n",
    "votes['vote_share'] = votes['votes']/votes['total_votes'] * 100"
   ]
  },
  {
   "cell_type": "code",
   "execution_count": 9,
   "metadata": {
    "collapsed": true
   },
   "outputs": [],
   "source": [
    "def get_office(string):\n",
    "    if 'SENATE' in string.upper():\n",
    "        return 'S'\n",
    "    elif 'ASSEMBLY' in string.upper():\n",
    "        return 'A'\n",
    "    else:\n",
    "        raise Exception"
   ]
  },
  {
   "cell_type": "code",
   "execution_count": 10,
   "metadata": {
    "collapsed": true
   },
   "outputs": [],
   "source": [
    "votes['office'] = votes['office'].apply(get_office)"
   ]
  },
  {
   "cell_type": "code",
   "execution_count": 11,
   "metadata": {
    "collapsed": true
   },
   "outputs": [],
   "source": [
    "winners = votes.groupby(['office','district','year'], as_index=False).max()[['office','district','year','votes']]\n",
    "winners = winners.rename(columns={'votes': 'winning_votes'})"
   ]
  },
  {
   "cell_type": "code",
   "execution_count": 12,
   "metadata": {
    "collapsed": true
   },
   "outputs": [],
   "source": [
    "votes = votes.merge(winners, on=['office','district','year'])"
   ]
  },
  {
   "cell_type": "code",
   "execution_count": 13,
   "metadata": {
    "collapsed": true
   },
   "outputs": [],
   "source": [
    "def won(row):\n",
    "    if row['votes'] == row['winning_votes']:\n",
    "        return 1\n",
    "    else:\n",
    "        return 0"
   ]
  },
  {
   "cell_type": "code",
   "execution_count": 14,
   "metadata": {
    "collapsed": true
   },
   "outputs": [],
   "source": [
    "votes['winner'] = votes.apply(won, axis=1)"
   ]
  },
  {
   "cell_type": "code",
   "execution_count": 15,
   "metadata": {
    "collapsed": true
   },
   "outputs": [],
   "source": [
    "def is_incumbent(row):\n",
    "    prev = votes[(votes['candidate'] == row['candidate']) & (votes['office'] == row['office']) \\\n",
    "                 & (votes['district'] == row['district']) & (votes['winner'] == 1)]\n",
    "    \n",
    "    if row['office'] == 'A':\n",
    "        prev = prev[prev['year'] == (row['year'] - 2)]\n",
    "    else:\n",
    "        prev = prev[prev['year'] == (row['year'] - 4)]\n",
    "\n",
    "    if not prev.empty:\n",
    "        return 1\n",
    "    else:\n",
    "        return 0"
   ]
  },
  {
   "cell_type": "code",
   "execution_count": 16,
   "metadata": {
    "collapsed": true
   },
   "outputs": [],
   "source": [
    "votes['incumbent'] = votes.apply(is_incumbent, axis=1)"
   ]
  },
  {
   "cell_type": "code",
   "execution_count": 17,
   "metadata": {},
   "outputs": [
    {
     "data": {
      "text/plain": [
       "295"
      ]
     },
     "execution_count": 17,
     "metadata": {},
     "output_type": "execute_result"
    }
   ],
   "source": [
    "# This method won't give us incumbency status for 2002 Assembly and 2002-2004 Senate races, so we need to do that manually\n",
    "missing_incumbency = votes[((votes['year'] <= 2004) & (votes['office'] == 'S')) \\\n",
    "                           | ((votes['year'] == 2002) & (votes['office'] == 'A'))]\n",
    "len(missing_incumbency)"
   ]
  },
  {
   "cell_type": "code",
   "execution_count": 18,
   "metadata": {
    "collapsed": true
   },
   "outputs": [],
   "source": [
    "missing_incumbency.sort_values(['year','office','district']).to_csv('../data/missing_incumbency_votes.csv', index=False)"
   ]
  },
  {
   "cell_type": "code",
   "execution_count": 19,
   "metadata": {},
   "outputs": [
    {
     "data": {
      "text/html": [
       "<div>\n",
       "<table border=\"1\" class=\"dataframe\">\n",
       "  <thead>\n",
       "    <tr style=\"text-align: right;\">\n",
       "      <th></th>\n",
       "      <th>candidate</th>\n",
       "      <th>office</th>\n",
       "      <th>district</th>\n",
       "      <th>party</th>\n",
       "      <th>year</th>\n",
       "      <th>votes</th>\n",
       "      <th>total_votes</th>\n",
       "      <th>vote_share</th>\n",
       "      <th>winning_votes</th>\n",
       "      <th>winner</th>\n",
       "      <th>incumbent</th>\n",
       "    </tr>\n",
       "  </thead>\n",
       "  <tbody>\n",
       "    <tr>\n",
       "      <th>0</th>\n",
       "      <td>Doug Thron</td>\n",
       "      <td>A</td>\n",
       "      <td>1</td>\n",
       "      <td>GRN</td>\n",
       "      <td>2002</td>\n",
       "      <td>15315</td>\n",
       "      <td>132039</td>\n",
       "      <td>11.5988458</td>\n",
       "      <td>64065</td>\n",
       "      <td>0</td>\n",
       "      <td>0</td>\n",
       "    </tr>\n",
       "    <tr>\n",
       "      <th>1</th>\n",
       "      <td>Patty Berg</td>\n",
       "      <td>A</td>\n",
       "      <td>1</td>\n",
       "      <td>DEM</td>\n",
       "      <td>2002</td>\n",
       "      <td>64065</td>\n",
       "      <td>132039</td>\n",
       "      <td>48.51975553</td>\n",
       "      <td>64065</td>\n",
       "      <td>1</td>\n",
       "      <td>0</td>\n",
       "    </tr>\n",
       "    <tr>\n",
       "      <th>2</th>\n",
       "      <td>Rob Brown</td>\n",
       "      <td>A</td>\n",
       "      <td>1</td>\n",
       "      <td>REP</td>\n",
       "      <td>2002</td>\n",
       "      <td>52659</td>\n",
       "      <td>132039</td>\n",
       "      <td>39.88139868</td>\n",
       "      <td>64065</td>\n",
       "      <td>0</td>\n",
       "      <td>0</td>\n",
       "    </tr>\n",
       "    <tr>\n",
       "      <th>3</th>\n",
       "      <td>Doug Kinyon</td>\n",
       "      <td>A</td>\n",
       "      <td>2</td>\n",
       "      <td>DEM</td>\n",
       "      <td>2002</td>\n",
       "      <td>34524</td>\n",
       "      <td>117881</td>\n",
       "      <td>29.28716248</td>\n",
       "      <td>79361</td>\n",
       "      <td>0</td>\n",
       "      <td>0</td>\n",
       "    </tr>\n",
       "    <tr>\n",
       "      <th>4</th>\n",
       "      <td>Doug La Malfa</td>\n",
       "      <td>A</td>\n",
       "      <td>2</td>\n",
       "      <td>REP</td>\n",
       "      <td>2002</td>\n",
       "      <td>79361</td>\n",
       "      <td>117881</td>\n",
       "      <td>67.32297826</td>\n",
       "      <td>79361</td>\n",
       "      <td>1</td>\n",
       "      <td>0</td>\n",
       "    </tr>\n",
       "  </tbody>\n",
       "</table>\n",
       "</div>"
      ],
      "text/plain": [
       "       candidate office district party  year  votes total_votes   vote_share  \\\n",
       "0     Doug Thron      A        1   GRN  2002  15315      132039   11.5988458   \n",
       "1     Patty Berg      A        1   DEM  2002  64065      132039  48.51975553   \n",
       "2      Rob Brown      A        1   REP  2002  52659      132039  39.88139868   \n",
       "3    Doug Kinyon      A        2   DEM  2002  34524      117881  29.28716248   \n",
       "4  Doug La Malfa      A        2   REP  2002  79361      117881  67.32297826   \n",
       "\n",
       "  winning_votes winner incumbent  \n",
       "0         64065      0         0  \n",
       "1         64065      1         0  \n",
       "2         64065      0         0  \n",
       "3         79361      0         0  \n",
       "4         79361      1         0  "
      ]
     },
     "execution_count": 19,
     "metadata": {},
     "output_type": "execute_result"
    }
   ],
   "source": [
    "# Import back in the corrected votes\n",
    "manual_votes = pd.read_csv('../data/manual_incumbency_votes.csv', dtype='str')\n",
    "manual_votes.head()"
   ]
  },
  {
   "cell_type": "code",
   "execution_count": 20,
   "metadata": {
    "collapsed": true
   },
   "outputs": [],
   "source": [
    "has_incumbency = votes[((votes['year'] > 2004) & (votes['office'] == 'S')) | ((votes['year'] > 2002) & (votes['office'] == 'A'))]"
   ]
  },
  {
   "cell_type": "code",
   "execution_count": 21,
   "metadata": {
    "collapsed": true
   },
   "outputs": [],
   "source": [
    "final_votes = has_incumbency.append(manual_votes)\n",
    "assert(len(final_votes) == len(votes))"
   ]
  },
  {
   "cell_type": "code",
   "execution_count": 22,
   "metadata": {
    "collapsed": true
   },
   "outputs": [],
   "source": [
    "final_votes['district'] = final_votes['district'].apply(lambda s: int(s))\n",
    "final_votes.to_csv('../data/votes.csv', index=False)"
   ]
  }
 ],
 "metadata": {
  "kernelspec": {
   "display_name": "Python 3",
   "language": "python",
   "name": "python3"
  },
  "language_info": {
   "codemirror_mode": {
    "name": "ipython",
    "version": 3
   },
   "file_extension": ".py",
   "mimetype": "text/x-python",
   "name": "python",
   "nbconvert_exporter": "python",
   "pygments_lexer": "ipython3",
   "version": "3.4.3"
  }
 },
 "nbformat": 4,
 "nbformat_minor": 2
}
