{
 "cells": [
  {
   "cell_type": "code",
   "execution_count": 16,
   "metadata": {
    "collapsed": true
   },
   "outputs": [],
   "source": [
    "import psycopg2\n",
    "import numpy as np\n",
    "import pandas as pd"
   ]
  },
  {
   "cell_type": "code",
   "execution_count": 17,
   "metadata": {},
   "outputs": [],
   "source": [
    "conn = psycopg2.connect(\"dbname='calaccess_processed' user='postgres' host='localhost' password=''\")\n",
    "cur = conn.cursor()"
   ]
  },
  {
   "cell_type": "code",
   "execution_count": 18,
   "metadata": {
    "collapsed": true
   },
   "outputs": [],
   "source": [
    "def get_office(string):\n",
    "    if 'SENATE' in string.upper():\n",
    "        return 'S'\n",
    "    elif 'ASSEMBLY' in string.upper():\n",
    "        return 'A'\n",
    "    else:\n",
    "        raise Exception"
   ]
  },
  {
   "cell_type": "code",
   "execution_count": 19,
   "metadata": {
    "collapsed": true
   },
   "outputs": [],
   "source": [
    "candidates = pd.read_csv('../data/scraped_candidates.csv', dtype=str)\n",
    "# Keep only Senate and Assembly\n",
    "candidates = candidates[(candidates['office'].str.contains('STATE SENATE')) | (candidates['office'].str.contains('ASSEMBLY'))]\n",
    "candidates['district'] = candidates['office'].apply(lambda s: int(s.split(' ')[-1]))\n",
    "candidates['office'] = candidates['office'].apply(get_office)\n",
    "candidates['year'] = candidates['election'].apply(lambda s: int(s[0:4]))\n",
    "# We don't have 2000 vote share data\n",
    "candidates = candidates[candidates['year'] > 2000]"
   ]
  },
  {
   "cell_type": "code",
   "execution_count": 20,
   "metadata": {},
   "outputs": [
    {
     "name": "stdout",
     "output_type": "stream",
     "text": [
      "564\n"
     ]
    }
   ],
   "source": [
    "# How many candidates are missing a filer ID?\n",
    "print(len(candidates[candidates['candidate_id'].isnull()]))"
   ]
  },
  {
   "cell_type": "code",
   "execution_count": 21,
   "metadata": {
    "collapsed": true
   },
   "outputs": [],
   "source": [
    "def candidate_filer_id(row):\n",
    "    if pd.isnull(row['candidate_id']):\n",
    "        name = row['candidate_name']\n",
    "        names = name.split(',')\n",
    "        if len(names) == 1:\n",
    "            return None\n",
    "        lname = names[0].strip()\n",
    "        fname = names[1].strip()\n",
    "\n",
    "        query =\"\"\"\n",
    "        SELECT \"FILER_ID\"\n",
    "        FROM \"F501_502_CD\"\n",
    "        WHERE \"CAND_NAML\" = %s AND \"CAND_NAMF\" = %s;\"\"\"\n",
    "\n",
    "        cur.execute(query, (lname, fname))\n",
    "        rows = cur.fetchall()\n",
    "        filer_ids = set([row[0] for row in rows])\n",
    "\n",
    "        if len(filer_ids) == 1:\n",
    "            return filer_ids.pop()\n",
    "\n",
    "    return row['candidate_id']"
   ]
  },
  {
   "cell_type": "code",
   "execution_count": 22,
   "metadata": {},
   "outputs": [
    {
     "name": "stdout",
     "output_type": "stream",
     "text": [
      "117\n"
     ]
    }
   ],
   "source": [
    "candidates['candidate_id'] = candidates.apply(candidate_filer_id, axis=1)\n",
    "# Now how many are missing an ID?\n",
    "print(len(candidates[candidates['candidate_id'].isnull()]))"
   ]
  },
  {
   "cell_type": "code",
   "execution_count": 23,
   "metadata": {
    "collapsed": true
   },
   "outputs": [],
   "source": [
    "def candidate_filer_id_2(row):\n",
    "    if pd.isnull(row['candidate_id']):\n",
    "        name = row['candidate_name']\n",
    "        names = name.split(',')\n",
    "        if len(names) == 1:\n",
    "            return None\n",
    "        lname = names[0].strip()\n",
    "        fname = names[1].strip()\n",
    "\n",
    "        query =\"\"\"\n",
    "        SELECT DISTINCT \"FILER_ID\"\n",
    "        FROM \"FILERNAME_CD\"\n",
    "        WHERE \"NAML\" = %s AND \"NAMF\" = %s AND \"FILER_TYPE\" = 'CANDIDATE/OFFICEHOLDER';\"\"\"\n",
    "\n",
    "        cur.execute(query, (lname, fname))\n",
    "        rows = cur.fetchall()\n",
    "        filer_ids = set([row[0] for row in rows])\n",
    "\n",
    "        if len(filer_ids) == 1:\n",
    "            return filer_ids.pop()\n",
    "\n",
    "    return row['candidate_id']"
   ]
  },
  {
   "cell_type": "code",
   "execution_count": 24,
   "metadata": {},
   "outputs": [
    {
     "name": "stdout",
     "output_type": "stream",
     "text": [
      "11\n"
     ]
    }
   ],
   "source": [
    "candidates['candidate_id'] = candidates.apply(candidate_filer_id_2, axis=1)\n",
    "# Now how many are missing an ID?\n",
    "print(len(candidates[candidates['candidate_id'].isnull()]))"
   ]
  },
  {
   "cell_type": "code",
   "execution_count": 25,
   "metadata": {
    "collapsed": true
   },
   "outputs": [],
   "source": [
    "# Export list of candidates missing ID to fill in manually\n",
    "candidates[candidates['candidate_id'].isnull()].to_csv('../data/missing_candidates.csv', index=False)"
   ]
  },
  {
   "cell_type": "code",
   "execution_count": 26,
   "metadata": {
    "collapsed": true
   },
   "outputs": [],
   "source": [
    "# Import that list\n",
    "manual_candidates = pd.read_csv('../data/manual_candidates.csv', dtype='str')"
   ]
  },
  {
   "cell_type": "code",
   "execution_count": 27,
   "metadata": {},
   "outputs": [
    {
     "name": "stdout",
     "output_type": "stream",
     "text": [
      "2\n"
     ]
    }
   ],
   "source": [
    "# And add it back in, exporting the final candidates file\n",
    "candidates = candidates[candidates['candidate_id'].notnull()].append(manual_candidates)\n",
    "# Now how many are missing an ID?\n",
    "print(len(candidates[candidates['candidate_id'].isnull()]))"
   ]
  },
  {
   "cell_type": "code",
   "execution_count": 28,
   "metadata": {
    "collapsed": true
   },
   "outputs": [],
   "source": [
    "candidates.to_csv('../data/candidates.csv')"
   ]
  }
 ],
 "metadata": {
  "kernelspec": {
   "display_name": "Python 3",
   "language": "python",
   "name": "python3"
  },
  "language_info": {
   "codemirror_mode": {
    "name": "ipython",
    "version": 3
   },
   "file_extension": ".py",
   "mimetype": "text/x-python",
   "name": "python",
   "nbconvert_exporter": "python",
   "pygments_lexer": "ipython3",
   "version": "3.4.3"
  }
 },
 "nbformat": 4,
 "nbformat_minor": 2
}
